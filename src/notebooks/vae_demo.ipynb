{
 "cells": [
  {
   "cell_type": "code",
   "execution_count": 1,
   "id": "39935426-ef24-49d4-8373-6dc897d0b0db",
   "metadata": {},
   "outputs": [],
   "source": [
    "import torch\n",
    "import torch.nn as nn\n",
    "from torch.optim import adam\n",
    "import torch.nn.functional as F\n",
    "from torch.utils.data import DataLoader\n",
    "from torchvision import datasets, transforms\n",
    "import os\n",
    "import matplotlib.pyplot as plt\n",
    "import pandas as pd\n",
    "import numpy as np"
   ]
  },
  {
   "cell_type": "code",
   "execution_count": 2,
   "id": "03034ac9-631b-4347-8cfe-dc7032040f61",
   "metadata": {},
   "outputs": [],
   "source": [
    "BASE_DIR = \"/home/sid/Drive_D/auto_encoders/\" # Change this to your base directory\n",
    "DATA_DIR = os.path.join(BASE_DIR, \"data\")\n",
    "\n",
    "if not os.path.exists(DATA_DIR):\n",
    "    print(f\"{DATA_DIR} doesn't exist. Creating one!\", DATA_DIR)\n",
    "    os.mkdir(DATA_DIR)"
   ]
  },
  {
   "cell_type": "markdown",
   "id": "26904c2f-7cea-4b91-95fc-89045e0bf94a",
   "metadata": {},
   "source": [
    "# We will be working with the simplest image dataset out there: MNIST."
   ]
  },
  {
   "cell_type": "markdown",
   "id": "2966b1c3-7e05-439a-ba3f-bd9e00d9d74a",
   "metadata": {},
   "source": [
    "# Defining the transforms"
   ]
  },
  {
   "cell_type": "code",
   "execution_count": 3,
   "id": "6d91323c-8399-453c-b05b-1bc708d5902a",
   "metadata": {},
   "outputs": [],
   "source": [
    "transform = transforms.Compose([\n",
    "    transforms.ToTensor(),  # Converts images to PyTorch tensors and scales to [0, 1]\n",
    "    transforms.RandomPerspective(distortion_scale=0.2, p=0.5),  # Data augmentation\n",
    "])"
   ]
  },
  {
   "cell_type": "markdown",
   "id": "872688b4-8365-4efa-83de-d606e4fe3e52",
   "metadata": {},
   "source": [
    "# Downloading the dataset"
   ]
  },
  {
   "cell_type": "code",
   "execution_count": 4,
   "id": "ad7dba0f-1b1a-4445-a188-05bf2fc6ad0b",
   "metadata": {},
   "outputs": [],
   "source": [
    "mnist_test = datasets.MNIST(DATA_DIR, transform=transform, download=True, train=False)\n",
    "mnist_train = datasets.MNIST(DATA_DIR, transform=transform, download=True, train=True)"
   ]
  },
  {
   "cell_type": "code",
   "execution_count": 5,
   "id": "65a44582-5a51-417e-a71e-52a090391a9f",
   "metadata": {},
   "outputs": [],
   "source": [
    "train_dataloader = DataLoader(mnist_train, \n",
    "                                batch_size=100,\n",
    "                                shuffle=True,\n",
    "                                num_workers=10\n",
    "                             )\n",
    "test_dataloader = DataLoader(mnist_test, \n",
    "                                batch_size=100,\n",
    "                                shuffle=False,\n",
    "                                num_workers=10\n",
    "                             )"
   ]
  },
  {
   "cell_type": "markdown",
   "id": "60527ee7-5cf5-4aa0-a44a-6afba57d05ff",
   "metadata": {},
   "source": [
    "# Let's look at an image example from the training set"
   ]
  },
  {
   "cell_type": "code",
   "execution_count": 6,
   "id": "9afb8bd3-1c8d-47b6-9223-da2d3dfdbce3",
   "metadata": {},
   "outputs": [
    {
     "data": {
      "image/png": "[encoded data removed]",
      "text/plain": [
       "<Figure size 640x480 with 1 Axes>"
      ]
     },
     "metadata": {},
     "output_type": "display_data"
    }
   ],
   "source": [
    "def plot_image(tensor_img):\n",
    "    plt.imshow(transforms.ToPILImage()(tensor_img), cmap='gray')\n",
    "    plt.xticks([])\n",
    "    plt.yticks([]);\n",
    "plot_image(mnist_train[10][0])"
   ]
  },
  {
   "cell_type": "markdown",
   "id": "dc6b6198-aa0d-42fe-b1ee-5505ed16e2c6",
   "metadata": {},
   "source": [
    "# Utility functions"
   ]
  },
  {
   "cell_type": "code",
   "execution_count": 7,
   "id": "f23f0bea-106c-4dce-acc0-2c820d086fce",
   "metadata": {
    "scrolled": true
   },
   "outputs": [],
   "source": [
    "def train(model, optimizer, criterion, train_loader, epochs):\n",
    "    from tqdm import tqdm\n",
    "    for epoch in range(epochs):\n",
    "        running_loss = 0.0\n",
    "        progress_bar = tqdm(train_dataloader, desc=f\"Epoch {epoch+1}\", leave=True)\n",
    "    \n",
    "        for batch in progress_bar:\n",
    "            image, _ = batch\n",
    "            image = image.to(device)\n",
    "            B, C,H, W = image.shape\n",
    "            optimizer.zero_grad()\n",
    "            logits = model.forward(image)\n",
    "            loss = criterion(logits, image)\n",
    "    \n",
    "            loss.backward()\n",
    "            optimizer.step()\n",
    "    \n",
    "            running_loss += loss.item()\n",
    "    \n",
    "            # Update progress bar with loss\n",
    "            progress_bar.set_postfix(loss=loss.item())\n",
    "        \n",
    "        print(f\"Epoch {epoch+1}: Avg Loss: {running_loss / len(train_dataloader):.6f}\")"
   ]
  },
  {
   "cell_type": "code",
   "execution_count": 8,
   "id": "10aaa493-cbfa-4a0b-bf2e-6bdb9a795d9a",
   "metadata": {},
   "outputs": [],
   "source": [
    "@torch.no_grad()\n",
    "def inference(model, input_tensor):\n",
    "    C, W, H = input_tensor.shape\n",
    "    reconstructed = input_tensor.reshape((C, -1))\n",
    "    return reconstructed.view(C, W, H)"
   ]
  },
  {
   "cell_type": "code",
   "execution_count": null,
   "id": "1a083d06",
   "metadata": {},
   "outputs": [],
   "source": [
    "class VariationalAutoencoder(nn.Module):\n",
    "    def __init__(self, input_dim, latent_dim):\n",
    "        super().__init__()\n",
    "        pass\n",
    "\n",
    "    def encoder(self, x):\n",
    "        pass\n",
    "    \n",
    "    def decoder(self, x):\n",
    "        pass\n",
    "    \n",
    "    def reparameterization(self, x):\n",
    "        pass\n",
    "    \n",
    "    def forward(self, x):\n",
    "        pass\n",
    "\n",
    "\n"
   ]
  },
  {
   "cell_type": "code",
   "execution_count": null,
   "id": "442b20a0",
   "metadata": {},
   "outputs": [],
   "source": []
  }
 ],
 "metadata": {
  "kernelspec": {
   "display_name": "base",
   "language": "python",
   "name": "python3"
  },
  "language_info": {
   "codemirror_mode": {
    "name": "ipython",
    "version": 3
   },
   "file_extension": ".py",
   "mimetype": "text/x-python",
   "name": "python",
   "nbconvert_exporter": "python",
   "pygments_lexer": "ipython3",
   "version": "3.12.2"
  }
 },
 "nbformat": 4,
 "nbformat_minor": 5
}
