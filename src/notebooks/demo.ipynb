{
 "cells": [
  {
   "cell_type": "code",
   "execution_count": 1,
   "id": "39935426-ef24-49d4-8373-6dc897d0b0db",
   "metadata": {},
   "outputs": [],
   "source": [
    "import torch\n",
    "import torch.nn as nn\n",
    "from torch.optim import adam\n",
    "import torch.nn.functional as F\n",
    "from torch.utils.data import DataLoader\n",
    "from torchvision import datasets, transforms\n",
    "import os\n",
    "import matplotlib.pyplot as plt\n",
    "import pandas as pd\n",
    "import numpy as np"
   ]
  },
  {
   "cell_type": "code",
   "execution_count": 2,
   "id": "03034ac9-631b-4347-8cfe-dc7032040f61",
   "metadata": {},
   "outputs": [],
   "source": [
    "BASE_DIR = \"/home/sid/Drive_D/auto_encoders/\" # Change this to your base directory\n",
    "DATA_DIR = os.path.join(BASE_DIR, \"data\")\n",
    "\n",
    "if not os.path.exists(DATA_DIR):\n",
    "    print(f\"{DATA_DIR} doesn't exist. Creating one!\", DATA_DIR)\n",
    "    os.mkdir(DATA_DIR)"
   ]
  },
  {
   "cell_type": "markdown",
   "id": "26904c2f-7cea-4b91-95fc-89045e0bf94a",
   "metadata": {},
   "source": [
    "# We will be working with the simplest image dataset out there: MNIST."
   ]
  },
  {
   "cell_type": "markdown",
   "id": "2966b1c3-7e05-439a-ba3f-bd9e00d9d74a",
   "metadata": {},
   "source": [
    "# Defining the transforms"
   ]
  },
  {
   "cell_type": "code",
   "execution_count": 3,
   "id": "6d91323c-8399-453c-b05b-1bc708d5902a",
   "metadata": {},
   "outputs": [],
   "source": [
    "transform = transforms.Compose([\n",
    "    transforms.ToTensor(),  # Converts images to PyTorch tensors and scales to [0, 1]\n",
    "    transforms.RandomPerspective(distortion_scale=0.2, p=0.5),  # Data augmentation\n",
    "])"
   ]
  },
  {
   "cell_type": "markdown",
   "id": "872688b4-8365-4efa-83de-d606e4fe3e52",
   "metadata": {},
   "source": [
    "# Downloading the dataset"
   ]
  },
  {
   "cell_type": "code",
   "execution_count": 4,
   "id": "ad7dba0f-1b1a-4445-a188-05bf2fc6ad0b",
   "metadata": {},
   "outputs": [],
   "source": [
    "mnist_test = datasets.MNIST(DATA_DIR, transform=transform, download=True, train=False)\n",
    "mnist_train = datasets.MNIST(DATA_DIR, transform=transform, download=True, train=True)"
   ]
  },
  {
   "cell_type": "code",
   "execution_count": 5,
   "id": "65a44582-5a51-417e-a71e-52a090391a9f",
   "metadata": {},
   "outputs": [],
   "source": [
    "train_dataloader = DataLoader(mnist_train, \n",
    "                                batch_size=100,\n",
    "                                shuffle=True,\n",
    "                                num_workers=10\n",
    "                             )\n",
    "test_dataloader = DataLoader(mnist_test, \n",
    "                                batch_size=100,\n",
    "                                shuffle=False,\n",
    "                                num_workers=10\n",
    "                             )"
   ]
  },
  {
   "cell_type": "markdown",
   "id": "60527ee7-5cf5-4aa0-a44a-6afba57d05ff",
   "metadata": {},
   "source": [
    "# Let's look at an image example from the training set"
   ]
  },
  {
   "cell_type": "code",
   "execution_count": 6,
   "id": "9afb8bd3-1c8d-47b6-9223-da2d3dfdbce3",
   "metadata": {},
   "outputs": [
    {
     "data": {
      "image/png": "[encoded data removed]",
      "text/plain": [
       "<Figure size 640x480 with 1 Axes>"
      ]
     },
     "metadata": {},
     "output_type": "display_data"
    }
   ],
   "source": [
    "def plot_image(tensor_img):\n",
    "    plt.imshow(transforms.ToPILImage()(tensor_img), cmap='gray')\n",
    "    plt.xticks([])\n",
    "    plt.yticks([]);\n",
    "plot_image(mnist_train[10][0])"
   ]
  },
  {
   "cell_type": "markdown",
   "id": "dc6b6198-aa0d-42fe-b1ee-5505ed16e2c6",
   "metadata": {},
   "source": [
    "# Utility functions"
   ]
  },
  {
   "cell_type": "code",
   "execution_count": 210,
   "id": "f23f0bea-106c-4dce-acc0-2c820d086fce",
   "metadata": {
    "scrolled": true
   },
   "outputs": [],
   "source": [
    "def train(model, optimizer, criterion, train_loader, epochs):\n",
    "    from tqdm import tqdm\n",
    "    for epoch in range(epochs):\n",
    "        running_loss = 0.0\n",
    "        progress_bar = tqdm(train_dataloader, desc=f\"Epoch {epoch+1}\", leave=True)\n",
    "    \n",
    "        for batch in progress_bar:\n",
    "            image, _ = batch\n",
    "            image = image.to(device)\n",
    "            B, C,H, W = image.shape\n",
    "            optimizer.zero_grad()\n",
    "            logits = model.forward(image)\n",
    "            loss = criterion(logits, image)\n",
    "    \n",
    "            loss.backward()\n",
    "            optimizer.step()\n",
    "    \n",
    "            running_loss += loss.item()\n",
    "    \n",
    "            # Update progress bar with loss\n",
    "            progress_bar.set_postfix(loss=loss.item())\n",
    "        \n",
    "        print(f\"Epoch {epoch+1}: Avg Loss: {running_loss / len(train_dataloader):.6f}\")"
   ]
  },
  {
   "cell_type": "code",
   "execution_count": 211,
   "id": "10aaa493-cbfa-4a0b-bf2e-6bdb9a795d9a",
   "metadata": {},
   "outputs": [],
   "source": [
    "@torch.no_grad()\n",
    "def inference(model, input_tensor):\n",
    "    C, W, H = input_tensor.shape\n",
    "    reconstructed = input_tensor.reshape((C, -1))\n",
    "    return reconstructed.view(C, W, H)"
   ]
  },
  {
   "cell_type": "markdown",
   "id": "0baac261-f0cf-4ef1-8d85-c0afa7283d04",
   "metadata": {},
   "source": [
    "# Defining the FF Auto Encoder Module"
   ]
  },
  {
   "cell_type": "code",
   "execution_count": 212,
   "id": "805fde5e-0553-4648-90f4-49dd325ff612",
   "metadata": {},
   "outputs": [],
   "source": [
    "class FFAutoencoder(nn.Module):\n",
    "    \n",
    "    def __init__(self, input_dim, latent_dim):\n",
    "        super().__init__()\n",
    "        self.encoder = nn.Sequential(\n",
    "            nn.Flatten(),\n",
    "            nn.Linear(input_dim, 100),\n",
    "            nn.ReLU(),\n",
    "            nn.Linear(100, 50),\n",
    "            nn.ReLU(),\n",
    "            nn.Linear(50, latent_dim), # bottle neck\n",
    "            nn.ReLU()\n",
    "        )\n",
    "\n",
    "        self.decoder = nn.Sequential(\n",
    "            nn.Linear(latent_dim, 50), # bottle neck\n",
    "            nn.ReLU(),\n",
    "            nn.Linear(50, 100),\n",
    "            nn.ReLU(),\n",
    "            nn.Linear(100, input_dim),\n",
    "            nn.Sigmoid()\n",
    "        )\n",
    "        \n",
    "    def forward(self, x):\n",
    "        B, C, W, H = x.shape\n",
    "        x = self.encoder(x) # encoding\n",
    "        x = self.decoder(x) # reconstruction\n",
    "        return x.reshape(B, C, W, H)"
   ]
  },
  {
   "cell_type": "markdown",
   "id": "28bd655e-dca1-49cb-ace9-1c14888c3399",
   "metadata": {},
   "source": [
    "# Training FFAE"
   ]
  },
  {
   "cell_type": "code",
   "execution_count": 213,
   "id": "539ecc3c-0ca2-45d3-8c57-39b693e96d89",
   "metadata": {},
   "outputs": [],
   "source": [
    "# model configs\n",
    "latent_dim = 25\n",
    "input_dim = 784\n",
    "epochs = 30\n",
    "\n",
    "device = 'cuda' if torch.cuda.is_available() else 'cpu'\n",
    "model = FFAutoencoder(input_dim=input_dim, latent_dim=latent_dim).to(device)\n",
    "# model = ConvAutoencoder().to(device)\n",
    "optimizer = adam.Adam(model.parameters(), lr=1e-3)\n",
    "criterion = nn.MSELoss()"
   ]
  },
  {
   "cell_type": "code",
   "execution_count": 214,
   "id": "ad2932d7-c528-43d1-9ac6-2b23fcc4bc04",
   "metadata": {
    "scrolled": true
   },
   "outputs": [
    {
     "name": "stderr",
     "output_type": "stream",
     "text": [
      "Epoch 1: 100%|████████████████████████████████████████| 600/600 [00:03<00:00, 184.29it/s, loss=0.034]\n"
     ]
    },
    {
     "name": "stdout",
     "output_type": "stream",
     "text": [
      "Epoch 1: Avg Loss: 0.055246\n"
     ]
    },
    {
     "name": "stderr",
     "output_type": "stream",
     "text": [
      "Epoch 2: 100%|███████████████████████████████████████| 600/600 [00:03<00:00, 177.23it/s, loss=0.0273]\n"
     ]
    },
    {
     "name": "stdout",
     "output_type": "stream",
     "text": [
      "Epoch 2: Avg Loss: 0.029837\n"
     ]
    },
    {
     "name": "stderr",
     "output_type": "stream",
     "text": [
      "Epoch 3: 100%|███████████████████████████████████████| 600/600 [00:03<00:00, 171.70it/s, loss=0.0242]\n"
     ]
    },
    {
     "name": "stdout",
     "output_type": "stream",
     "text": [
      "Epoch 3: Avg Loss: 0.024393\n"
     ]
    },
    {
     "name": "stderr",
     "output_type": "stream",
     "text": [
      "Epoch 4: 100%|███████████████████████████████████████| 600/600 [00:03<00:00, 171.46it/s, loss=0.0196]\n"
     ]
    },
    {
     "name": "stdout",
     "output_type": "stream",
     "text": [
      "Epoch 4: Avg Loss: 0.020999\n"
     ]
    },
    {
     "name": "stderr",
     "output_type": "stream",
     "text": [
      "Epoch 5: 100%|███████████████████████████████████████| 600/600 [00:03<00:00, 166.18it/s, loss=0.0176]\n"
     ]
    },
    {
     "name": "stdout",
     "output_type": "stream",
     "text": [
      "Epoch 5: Avg Loss: 0.018762\n"
     ]
    },
    {
     "name": "stderr",
     "output_type": "stream",
     "text": [
      "Epoch 6: 100%|████████████████████████████████████████| 600/600 [00:03<00:00, 171.48it/s, loss=0.017]\n"
     ]
    },
    {
     "name": "stdout",
     "output_type": "stream",
     "text": [
      "Epoch 6: Avg Loss: 0.017156\n"
     ]
    },
    {
     "name": "stderr",
     "output_type": "stream",
     "text": [
      "Epoch 7: 100%|███████████████████████████████████████| 600/600 [00:03<00:00, 171.44it/s, loss=0.0164]\n"
     ]
    },
    {
     "name": "stdout",
     "output_type": "stream",
     "text": [
      "Epoch 7: Avg Loss: 0.016057\n"
     ]
    },
    {
     "name": "stderr",
     "output_type": "stream",
     "text": [
      "Epoch 8: 100%|███████████████████████████████████████| 600/600 [00:03<00:00, 171.83it/s, loss=0.0137]\n"
     ]
    },
    {
     "name": "stdout",
     "output_type": "stream",
     "text": [
      "Epoch 8: Avg Loss: 0.015155\n"
     ]
    },
    {
     "name": "stderr",
     "output_type": "stream",
     "text": [
      "Epoch 9: 100%|███████████████████████████████████████| 600/600 [00:03<00:00, 171.83it/s, loss=0.0133]\n"
     ]
    },
    {
     "name": "stdout",
     "output_type": "stream",
     "text": [
      "Epoch 9: Avg Loss: 0.014495\n"
     ]
    },
    {
     "name": "stderr",
     "output_type": "stream",
     "text": [
      "Epoch 10: 100%|██████████████████████████████████████| 600/600 [00:03<00:00, 175.18it/s, loss=0.0129]\n"
     ]
    },
    {
     "name": "stdout",
     "output_type": "stream",
     "text": [
      "Epoch 10: Avg Loss: 0.014068\n"
     ]
    },
    {
     "name": "stderr",
     "output_type": "stream",
     "text": [
      "Epoch 11: 100%|██████████████████████████████████████| 600/600 [00:03<00:00, 174.95it/s, loss=0.0129]\n"
     ]
    },
    {
     "name": "stdout",
     "output_type": "stream",
     "text": [
      "Epoch 11: Avg Loss: 0.013710\n"
     ]
    },
    {
     "name": "stderr",
     "output_type": "stream",
     "text": [
      "Epoch 12: 100%|██████████████████████████████████████| 600/600 [00:03<00:00, 163.83it/s, loss=0.0131]\n"
     ]
    },
    {
     "name": "stdout",
     "output_type": "stream",
     "text": [
      "Epoch 12: Avg Loss: 0.013325\n"
     ]
    },
    {
     "name": "stderr",
     "output_type": "stream",
     "text": [
      "Epoch 13: 100%|███████████████████████████████████████| 600/600 [00:03<00:00, 173.69it/s, loss=0.011]\n"
     ]
    },
    {
     "name": "stdout",
     "output_type": "stream",
     "text": [
      "Epoch 13: Avg Loss: 0.013030\n"
     ]
    },
    {
     "name": "stderr",
     "output_type": "stream",
     "text": [
      "Epoch 14: 100%|███████████████████████████████████████| 600/600 [00:03<00:00, 179.17it/s, loss=0.012]\n"
     ]
    },
    {
     "name": "stdout",
     "output_type": "stream",
     "text": [
      "Epoch 14: Avg Loss: 0.012746\n"
     ]
    },
    {
     "name": "stderr",
     "output_type": "stream",
     "text": [
      "Epoch 15: 100%|██████████████████████████████████████| 600/600 [00:03<00:00, 167.53it/s, loss=0.0122]\n"
     ]
    },
    {
     "name": "stdout",
     "output_type": "stream",
     "text": [
      "Epoch 15: Avg Loss: 0.012491\n"
     ]
    },
    {
     "name": "stderr",
     "output_type": "stream",
     "text": [
      "Epoch 16: 100%|██████████████████████████████████████| 600/600 [00:03<00:00, 167.02it/s, loss=0.0114]\n"
     ]
    },
    {
     "name": "stdout",
     "output_type": "stream",
     "text": [
      "Epoch 16: Avg Loss: 0.012297\n"
     ]
    },
    {
     "name": "stderr",
     "output_type": "stream",
     "text": [
      "Epoch 17: 100%|██████████████████████████████████████| 600/600 [00:03<00:00, 168.85it/s, loss=0.0132]\n"
     ]
    },
    {
     "name": "stdout",
     "output_type": "stream",
     "text": [
      "Epoch 17: Avg Loss: 0.012166\n"
     ]
    },
    {
     "name": "stderr",
     "output_type": "stream",
     "text": [
      "Epoch 18: 100%|█████████████████████████████████████| 600/600 [00:03<00:00, 166.75it/s, loss=0.00977]\n"
     ]
    },
    {
     "name": "stdout",
     "output_type": "stream",
     "text": [
      "Epoch 18: Avg Loss: 0.011998\n"
     ]
    },
    {
     "name": "stderr",
     "output_type": "stream",
     "text": [
      "Epoch 19: 100%|██████████████████████████████████████| 600/600 [00:03<00:00, 169.30it/s, loss=0.0124]\n"
     ]
    },
    {
     "name": "stdout",
     "output_type": "stream",
     "text": [
      "Epoch 19: Avg Loss: 0.011875\n"
     ]
    },
    {
     "name": "stderr",
     "output_type": "stream",
     "text": [
      "Epoch 20: 100%|██████████████████████████████████████| 600/600 [00:03<00:00, 163.67it/s, loss=0.0115]\n"
     ]
    },
    {
     "name": "stdout",
     "output_type": "stream",
     "text": [
      "Epoch 20: Avg Loss: 0.011754\n"
     ]
    },
    {
     "name": "stderr",
     "output_type": "stream",
     "text": [
      "Epoch 21: 100%|██████████████████████████████████████| 600/600 [00:03<00:00, 162.25it/s, loss=0.0112]\n"
     ]
    },
    {
     "name": "stdout",
     "output_type": "stream",
     "text": [
      "Epoch 21: Avg Loss: 0.011656\n"
     ]
    },
    {
     "name": "stderr",
     "output_type": "stream",
     "text": [
      "Epoch 22: 100%|███████████████████████████████████████| 600/600 [00:03<00:00, 171.88it/s, loss=0.012]\n"
     ]
    },
    {
     "name": "stdout",
     "output_type": "stream",
     "text": [
      "Epoch 22: Avg Loss: 0.011524\n"
     ]
    },
    {
     "name": "stderr",
     "output_type": "stream",
     "text": [
      "Epoch 23: 100%|██████████████████████████████████████| 600/600 [00:03<00:00, 175.26it/s, loss=0.0121]\n"
     ]
    },
    {
     "name": "stdout",
     "output_type": "stream",
     "text": [
      "Epoch 23: Avg Loss: 0.011444\n"
     ]
    },
    {
     "name": "stderr",
     "output_type": "stream",
     "text": [
      "Epoch 24: 100%|███████████████████████████████████████| 600/600 [00:03<00:00, 175.12it/s, loss=0.011]\n"
     ]
    },
    {
     "name": "stdout",
     "output_type": "stream",
     "text": [
      "Epoch 24: Avg Loss: 0.011352\n"
     ]
    },
    {
     "name": "stderr",
     "output_type": "stream",
     "text": [
      "Epoch 25: 100%|██████████████████████████████████████| 600/600 [00:03<00:00, 171.10it/s, loss=0.0104]\n"
     ]
    },
    {
     "name": "stdout",
     "output_type": "stream",
     "text": [
      "Epoch 25: Avg Loss: 0.011255\n"
     ]
    },
    {
     "name": "stderr",
     "output_type": "stream",
     "text": [
      "Epoch 26: 100%|██████████████████████████████████████| 600/600 [00:03<00:00, 178.79it/s, loss=0.0108]\n"
     ]
    },
    {
     "name": "stdout",
     "output_type": "stream",
     "text": [
      "Epoch 26: Avg Loss: 0.011140\n"
     ]
    },
    {
     "name": "stderr",
     "output_type": "stream",
     "text": [
      "Epoch 27: 100%|██████████████████████████████████████| 600/600 [00:03<00:00, 171.94it/s, loss=0.0108]\n"
     ]
    },
    {
     "name": "stdout",
     "output_type": "stream",
     "text": [
      "Epoch 27: Avg Loss: 0.011044\n"
     ]
    },
    {
     "name": "stderr",
     "output_type": "stream",
     "text": [
      "Epoch 28: 100%|██████████████████████████████████████| 600/600 [00:03<00:00, 173.21it/s, loss=0.0103]\n"
     ]
    },
    {
     "name": "stdout",
     "output_type": "stream",
     "text": [
      "Epoch 28: Avg Loss: 0.010963\n"
     ]
    },
    {
     "name": "stderr",
     "output_type": "stream",
     "text": [
      "Epoch 29: 100%|██████████████████████████████████████| 600/600 [00:03<00:00, 174.43it/s, loss=0.0112]\n"
     ]
    },
    {
     "name": "stdout",
     "output_type": "stream",
     "text": [
      "Epoch 29: Avg Loss: 0.010892\n"
     ]
    },
    {
     "name": "stderr",
     "output_type": "stream",
     "text": [
      "Epoch 30: 100%|██████████████████████████████████████| 600/600 [00:03<00:00, 164.67it/s, loss=0.0113]"
     ]
    },
    {
     "name": "stdout",
     "output_type": "stream",
     "text": [
      "Epoch 30: Avg Loss: 0.010801\n"
     ]
    },
    {
     "name": "stderr",
     "output_type": "stream",
     "text": [
      "\n"
     ]
    }
   ],
   "source": [
    "train(model=model,\n",
    "     optimizer=optimizer,\n",
    "     criterion=criterion,\n",
    "     train_loader=train_dataloader,\n",
    "     epochs=epochs)"
   ]
  },
  {
   "cell_type": "markdown",
   "id": "f4bfc478-5366-4a36-9df2-543f9d287105",
   "metadata": {},
   "source": [
    "# Defining the Convolution Auto Encoder "
   ]
  },
  {
   "cell_type": "code",
   "execution_count": 222,
   "id": "e022488a-7cf2-4514-9253-c63c4f50290e",
   "metadata": {},
   "outputs": [],
   "source": [
    "class ConvAutoencoder(nn.Module):\n",
    "    def __init__(self, n_channels=1):\n",
    "        super(ConvAutoencoder, self).__init__()\n",
    "        \n",
    "        # Encoder\n",
    "        self.encoder = nn.Sequential(\n",
    "            nn.Conv2d(n_channels, 16, kernel_size=3, stride=2, padding=1),  \n",
    "            nn.ReLU(),\n",
    "            nn.Conv2d(16, 32, kernel_size=3, stride=2, padding=1),\n",
    "            nn.ReLU(),\n",
    "            nn.Conv2d(32, 64, kernel_size=3, stride=2, padding=1),\n",
    "            nn.ReLU()\n",
    "        )\n",
    "        \n",
    "        # Decoder\n",
    "        self.decoder = nn.Sequential(\n",
    "            nn.ConvTranspose2d(64, 32, kernel_size=3, stride=2, padding=1, output_padding=1),\n",
    "            nn.ReLU(),\n",
    "            nn.ConvTranspose2d(32, 16, kernel_size=3, stride=2, padding=1, output_padding=1),\n",
    "            nn.ReLU(),\n",
    "            nn.ConvTranspose2d(16, n_channels, kernel_size=3, stride=2, padding=1, output_padding=1),\n",
    "            nn.Sigmoid()\n",
    "        )\n",
    "\n",
    "    def forward(self, x):\n",
    "        B, C, H , W = x.shape\n",
    "        x = self.encoder(x)\n",
    "        x = self.decoder(x)\n",
    "        return x[...,2:-2,2:-2]"
   ]
  },
  {
   "cell_type": "markdown",
   "id": "e5a3703f-21d6-409c-a6fc-857e086c575d",
   "metadata": {},
   "source": [
    "# Training ConvAE"
   ]
  },
  {
   "cell_type": "code",
   "execution_count": 223,
   "id": "cb2aad0c-38a7-41e3-8b7e-c344eb461c3f",
   "metadata": {},
   "outputs": [],
   "source": [
    "# model configs\n",
    "epochs = 30\n",
    "in_channels = 1\n",
    "device = 'cuda' if torch.cuda.is_available() else 'cpu'\n",
    "model = ConvAutoencoder(n_channels=in_channels).to(device)\n",
    "optimizer = adam.Adam(model.parameters(), lr=1e-2)\n",
    "criterion = nn.MSELoss()"
   ]
  },
  {
   "cell_type": "code",
   "execution_count": 224,
   "id": "2339c506-a759-48f1-af76-3e6bda4b7546",
   "metadata": {},
   "outputs": [
    {
     "name": "stderr",
     "output_type": "stream",
     "text": [
      "Epoch 1: 100%|███████████████████████████████████████| 600/600 [00:03<00:00, 177.96it/s, loss=0.0993]\n"
     ]
    },
    {
     "name": "stdout",
     "output_type": "stream",
     "text": [
      "Epoch 1: Avg Loss: 0.099810\n"
     ]
    },
    {
     "name": "stderr",
     "output_type": "stream",
     "text": [
      "Epoch 2: 100%|████████████████████████████████████████| 600/600 [00:03<00:00, 177.76it/s, loss=0.101]\n"
     ]
    },
    {
     "name": "stdout",
     "output_type": "stream",
     "text": [
      "Epoch 2: Avg Loss: 0.099059\n"
     ]
    },
    {
     "name": "stderr",
     "output_type": "stream",
     "text": [
      "Epoch 3: 100%|████████████████████████████████████████| 600/600 [00:03<00:00, 177.64it/s, loss=0.107]\n"
     ]
    },
    {
     "name": "stdout",
     "output_type": "stream",
     "text": [
      "Epoch 3: Avg Loss: 0.099003\n"
     ]
    },
    {
     "name": "stderr",
     "output_type": "stream",
     "text": [
      "Epoch 4: 100%|███████████████████████████████████████| 600/600 [00:03<00:00, 172.15it/s, loss=0.0972]\n"
     ]
    },
    {
     "name": "stdout",
     "output_type": "stream",
     "text": [
      "Epoch 4: Avg Loss: 0.099051\n"
     ]
    },
    {
     "name": "stderr",
     "output_type": "stream",
     "text": [
      "Epoch 5: 100%|███████████████████████████████████████| 600/600 [00:03<00:00, 174.05it/s, loss=0.0969]\n"
     ]
    },
    {
     "name": "stdout",
     "output_type": "stream",
     "text": [
      "Epoch 5: Avg Loss: 0.099068\n"
     ]
    },
    {
     "name": "stderr",
     "output_type": "stream",
     "text": [
      "Epoch 6: 100%|███████████████████████████████████████| 600/600 [00:03<00:00, 171.95it/s, loss=0.0976]\n"
     ]
    },
    {
     "name": "stdout",
     "output_type": "stream",
     "text": [
      "Epoch 6: Avg Loss: 0.099105\n"
     ]
    },
    {
     "name": "stderr",
     "output_type": "stream",
     "text": [
      "Epoch 7: 100%|███████████████████████████████████████| 600/600 [00:03<00:00, 172.31it/s, loss=0.0998]\n"
     ]
    },
    {
     "name": "stdout",
     "output_type": "stream",
     "text": [
      "Epoch 7: Avg Loss: 0.099033\n"
     ]
    },
    {
     "name": "stderr",
     "output_type": "stream",
     "text": [
      "Epoch 8: 100%|██████████████████████████████████████████| 600/600 [00:03<00:00, 178.37it/s, loss=0.1]\n"
     ]
    },
    {
     "name": "stdout",
     "output_type": "stream",
     "text": [
      "Epoch 8: Avg Loss: 0.099002\n"
     ]
    },
    {
     "name": "stderr",
     "output_type": "stream",
     "text": [
      "Epoch 9: 100%|████████████████████████████████████████| 600/600 [00:03<00:00, 165.26it/s, loss=0.102]\n"
     ]
    },
    {
     "name": "stdout",
     "output_type": "stream",
     "text": [
      "Epoch 9: Avg Loss: 0.099083\n"
     ]
    },
    {
     "name": "stderr",
     "output_type": "stream",
     "text": [
      "Epoch 10: 100%|██████████████████████████████████████| 600/600 [00:03<00:00, 170.28it/s, loss=0.0997]\n"
     ]
    },
    {
     "name": "stdout",
     "output_type": "stream",
     "text": [
      "Epoch 10: Avg Loss: 0.099028\n"
     ]
    },
    {
     "name": "stderr",
     "output_type": "stream",
     "text": [
      "Epoch 11: 100%|██████████████████████████████████████| 600/600 [00:03<00:00, 168.64it/s, loss=0.0928]\n"
     ]
    },
    {
     "name": "stdout",
     "output_type": "stream",
     "text": [
      "Epoch 11: Avg Loss: 0.099027\n"
     ]
    },
    {
     "name": "stderr",
     "output_type": "stream",
     "text": [
      "Epoch 12: 100%|███████████████████████████████████████| 600/600 [00:03<00:00, 166.62it/s, loss=0.093]\n"
     ]
    },
    {
     "name": "stdout",
     "output_type": "stream",
     "text": [
      "Epoch 12: Avg Loss: 0.099122\n"
     ]
    },
    {
     "name": "stderr",
     "output_type": "stream",
     "text": [
      "Epoch 13: 100%|██████████████████████████████████████| 600/600 [00:03<00:00, 168.72it/s, loss=0.0899]\n"
     ]
    },
    {
     "name": "stdout",
     "output_type": "stream",
     "text": [
      "Epoch 13: Avg Loss: 0.099077\n"
     ]
    },
    {
     "name": "stderr",
     "output_type": "stream",
     "text": [
      "Epoch 14: 100%|███████████████████████████████████████| 600/600 [00:03<00:00, 163.38it/s, loss=0.098]\n"
     ]
    },
    {
     "name": "stdout",
     "output_type": "stream",
     "text": [
      "Epoch 14: Avg Loss: 0.099126\n"
     ]
    },
    {
     "name": "stderr",
     "output_type": "stream",
     "text": [
      "Epoch 15: 100%|███████████████████████████████████████| 600/600 [00:03<00:00, 164.04it/s, loss=0.105]\n"
     ]
    },
    {
     "name": "stdout",
     "output_type": "stream",
     "text": [
      "Epoch 15: Avg Loss: 0.099079\n"
     ]
    },
    {
     "name": "stderr",
     "output_type": "stream",
     "text": [
      "Epoch 16: 100%|███████████████████████████████████████| 600/600 [00:03<00:00, 174.53it/s, loss=0.101]\n"
     ]
    },
    {
     "name": "stdout",
     "output_type": "stream",
     "text": [
      "Epoch 16: Avg Loss: 0.099011\n"
     ]
    },
    {
     "name": "stderr",
     "output_type": "stream",
     "text": [
      "Epoch 17: 100%|█████████████████████████████████████████| 600/600 [00:03<00:00, 167.86it/s, loss=0.1]\n"
     ]
    },
    {
     "name": "stdout",
     "output_type": "stream",
     "text": [
      "Epoch 17: Avg Loss: 0.098995\n"
     ]
    },
    {
     "name": "stderr",
     "output_type": "stream",
     "text": [
      "Epoch 18: 100%|███████████████████████████████████████| 600/600 [00:03<00:00, 168.80it/s, loss=0.101]\n"
     ]
    },
    {
     "name": "stdout",
     "output_type": "stream",
     "text": [
      "Epoch 18: Avg Loss: 0.099001\n"
     ]
    },
    {
     "name": "stderr",
     "output_type": "stream",
     "text": [
      "Epoch 19: 100%|███████████████████████████████████████| 600/600 [00:03<00:00, 172.92it/s, loss=0.105]\n"
     ]
    },
    {
     "name": "stdout",
     "output_type": "stream",
     "text": [
      "Epoch 19: Avg Loss: 0.099073\n"
     ]
    },
    {
     "name": "stderr",
     "output_type": "stream",
     "text": [
      "Epoch 20: 100%|██████████████████████████████████████| 600/600 [00:03<00:00, 165.38it/s, loss=0.0971]\n"
     ]
    },
    {
     "name": "stdout",
     "output_type": "stream",
     "text": [
      "Epoch 20: Avg Loss: 0.099087\n"
     ]
    },
    {
     "name": "stderr",
     "output_type": "stream",
     "text": [
      "Epoch 21: 100%|███████████████████████████████████████| 600/600 [00:03<00:00, 168.85it/s, loss=0.106]\n"
     ]
    },
    {
     "name": "stdout",
     "output_type": "stream",
     "text": [
      "Epoch 21: Avg Loss: 0.099140\n"
     ]
    },
    {
     "name": "stderr",
     "output_type": "stream",
     "text": [
      "Epoch 22: 100%|███████████████████████████████████████| 600/600 [00:03<00:00, 172.93it/s, loss=0.098]\n"
     ]
    },
    {
     "name": "stdout",
     "output_type": "stream",
     "text": [
      "Epoch 22: Avg Loss: 0.099043\n"
     ]
    },
    {
     "name": "stderr",
     "output_type": "stream",
     "text": [
      "Epoch 23: 100%|███████████████████████████████████████| 600/600 [00:03<00:00, 174.81it/s, loss=0.098]\n"
     ]
    },
    {
     "name": "stdout",
     "output_type": "stream",
     "text": [
      "Epoch 23: Avg Loss: 0.099002\n"
     ]
    },
    {
     "name": "stderr",
     "output_type": "stream",
     "text": [
      "Epoch 24: 100%|██████████████████████████████████████| 600/600 [00:03<00:00, 169.91it/s, loss=0.0969]\n"
     ]
    },
    {
     "name": "stdout",
     "output_type": "stream",
     "text": [
      "Epoch 24: Avg Loss: 0.099126\n"
     ]
    },
    {
     "name": "stderr",
     "output_type": "stream",
     "text": [
      "Epoch 25: 100%|██████████████████████████████████████| 600/600 [00:03<00:00, 171.88it/s, loss=0.0971]\n"
     ]
    },
    {
     "name": "stdout",
     "output_type": "stream",
     "text": [
      "Epoch 25: Avg Loss: 0.098960\n"
     ]
    },
    {
     "name": "stderr",
     "output_type": "stream",
     "text": [
      "Epoch 26: 100%|███████████████████████████████████████| 600/600 [00:03<00:00, 163.98it/s, loss=0.104]\n"
     ]
    },
    {
     "name": "stdout",
     "output_type": "stream",
     "text": [
      "Epoch 26: Avg Loss: 0.099003\n"
     ]
    },
    {
     "name": "stderr",
     "output_type": "stream",
     "text": [
      "Epoch 27: 100%|██████████████████████████████████████| 600/600 [00:03<00:00, 172.68it/s, loss=0.0986]\n"
     ]
    },
    {
     "name": "stdout",
     "output_type": "stream",
     "text": [
      "Epoch 27: Avg Loss: 0.099016\n"
     ]
    },
    {
     "name": "stderr",
     "output_type": "stream",
     "text": [
      "Epoch 28: 100%|███████████████████████████████████████| 600/600 [00:03<00:00, 165.64it/s, loss=0.101]\n"
     ]
    },
    {
     "name": "stdout",
     "output_type": "stream",
     "text": [
      "Epoch 28: Avg Loss: 0.099141\n"
     ]
    },
    {
     "name": "stderr",
     "output_type": "stream",
     "text": [
      "Epoch 29: 100%|██████████████████████████████████████| 600/600 [00:03<00:00, 171.78it/s, loss=0.0962]\n"
     ]
    },
    {
     "name": "stdout",
     "output_type": "stream",
     "text": [
      "Epoch 29: Avg Loss: 0.099012\n"
     ]
    },
    {
     "name": "stderr",
     "output_type": "stream",
     "text": [
      "Epoch 30: 100%|███████████████████████████████████████| 600/600 [00:03<00:00, 166.12it/s, loss=0.101]"
     ]
    },
    {
     "name": "stdout",
     "output_type": "stream",
     "text": [
      "Epoch 30: Avg Loss: 0.099014\n"
     ]
    },
    {
     "name": "stderr",
     "output_type": "stream",
     "text": [
      "\n"
     ]
    }
   ],
   "source": [
    "train(model, optimizer, criterion, train_dataloader, epochs)"
   ]
  },
  {
   "cell_type": "code",
   "execution_count": 225,
   "id": "a57700ee-7e41-4141-bb8d-e585d0d19b98",
   "metadata": {},
   "outputs": [],
   "source": [
    "test_image = mnist_test[14][0]"
   ]
  },
  {
   "cell_type": "code",
   "execution_count": 226,
   "id": "029eed79-393a-4a2c-92c5-909717716bec",
   "metadata": {},
   "outputs": [],
   "source": [
    "generated = inference(model, test_image)"
   ]
  },
  {
   "cell_type": "code",
   "execution_count": 227,
   "id": "75acbc61-2af2-4d07-9b27-0ffa61ecb9ab",
   "metadata": {},
   "outputs": [
    {
     "data": {
      "image/png": "[encoded data removed]",
      "text/plain": [
       "<Figure size 640x480 with 1 Axes>"
      ]
     },
     "metadata": {},
     "output_type": "display_data"
    }
   ],
   "source": [
    "plot_image(test_image)"
   ]
  },
  {
   "cell_type": "code",
   "execution_count": 228,
   "id": "412a3cc6-542d-48ed-a88f-254160b0f1ad",
   "metadata": {},
   "outputs": [
    {
     "data": {
      "image/png": "[encoded data removed]",
      "text/plain": [
       "<Figure size 640x480 with 1 Axes>"
      ]
     },
     "metadata": {},
     "output_type": "display_data"
    }
   ],
   "source": [
    "plot_image(generated)"
   ]
  },
  {
   "cell_type": "code",
   "execution_count": 219,
   "id": "5a681b39-6c22-4a15-bcca-503352fdca6e",
   "metadata": {},
   "outputs": [
    {
     "data": {
      "text/plain": [
       "torch.Size([100, 1, 1024])"
      ]
     },
     "execution_count": 219,
     "metadata": {},
     "output_type": "execute_result"
    }
   ],
   "source": [
    "torch.randn((100, 1, 32,32)).view((100, 1, -1)).shape"
   ]
  },
  {
   "cell_type": "code",
   "execution_count": null,
   "id": "23e5fdbb-b46d-46b6-ae58-0c3a611f2129",
   "metadata": {},
   "outputs": [],
   "source": []
  }
 ],
 "metadata": {
  "kernelspec": {
   "display_name": "Python 3 (ipykernel)",
   "language": "python",
   "name": "python3"
  },
  "language_info": {
   "codemirror_mode": {
    "name": "ipython",
    "version": 3
   },
   "file_extension": ".py",
   "mimetype": "text/x-python",
   "name": "python",
   "nbconvert_exporter": "python",
   "pygments_lexer": "ipython3",
   "version": "3.12.2"
  }
 },
 "nbformat": 4,
 "nbformat_minor": 5
}
