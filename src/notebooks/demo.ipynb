{
 "cells": [
  {
   "cell_type": "code",
   "execution_count": 497,
   "id": "39935426-ef24-49d4-8373-6dc897d0b0db",
   "metadata": {},
   "outputs": [],
   "source": [
    "import torch\n",
    "import torch.nn as nn\n",
    "from torch.optim import adam\n",
    "import torch.nn.functional as F\n",
    "from torch.utils.data import DataLoader\n",
    "from torchvision import datasets, transforms\n",
    "import os\n",
    "import matplotlib.pyplot as plt\n",
    "import pandas as pd\n",
    "import numpy as np"
   ]
  },
  {
   "cell_type": "code",
   "execution_count": 498,
   "id": "03034ac9-631b-4347-8cfe-dc7032040f61",
   "metadata": {},
   "outputs": [],
   "source": [
    "BASE_DIR = \"/home/sid/Drive_D/auto_encoders/\" # Change this to your base directory\n",
    "DATA_DIR = os.path.join(BASE_DIR, \"data\")\n",
    "\n",
    "if not os.path.exists(DATA_DIR):\n",
    "    print(f\"{DATA_DIR} doesn't exist. Creating one!\", DATA_DIR)\n",
    "    os.mkdir(DATA_DIR)"
   ]
  },
  {
   "cell_type": "markdown",
   "id": "26904c2f-7cea-4b91-95fc-89045e0bf94a",
   "metadata": {},
   "source": [
    "# We will be working with the simplest image dataset out there: MNIST."
   ]
  },
  {
   "cell_type": "markdown",
   "id": "2966b1c3-7e05-439a-ba3f-bd9e00d9d74a",
   "metadata": {},
   "source": [
    "# Defining the transforms"
   ]
  },
  {
   "cell_type": "code",
   "execution_count": 499,
   "id": "6d91323c-8399-453c-b05b-1bc708d5902a",
   "metadata": {},
   "outputs": [],
   "source": [
    "transform = transforms.Compose([\n",
    "    transforms.ToTensor(),  # Converts images to PyTorch tensors and scales to [0, 1]\n",
    "    transforms.RandomPerspective(distortion_scale=0.2, p=0.5),  # Data augmentation\n",
    "])"
   ]
  },
  {
   "cell_type": "markdown",
   "id": "872688b4-8365-4efa-83de-d606e4fe3e52",
   "metadata": {},
   "source": [
    "# Downloading the dataset"
   ]
  },
  {
   "cell_type": "code",
   "execution_count": 562,
   "id": "ad7dba0f-1b1a-4445-a188-05bf2fc6ad0b",
   "metadata": {},
   "outputs": [],
   "source": [
    "mnist_test = datasets.MNIST(DATA_DIR, transform=transform, download=True, train=False)\n",
    "mnist_train = datasets.MNIST(DATA_DIR, transform=transform, download=True, train=True)"
   ]
  },
  {
   "cell_type": "code",
   "execution_count": 563,
   "id": "65a44582-5a51-417e-a71e-52a090391a9f",
   "metadata": {},
   "outputs": [],
   "source": [
    "train_dataloader = DataLoader(mnist_train, \n",
    "                                batch_size=100,\n",
    "                                shuffle=True,\n",
    "                                num_workers=10\n",
    "                             )\n",
    "test_dataloader = DataLoader(mnist_test, \n",
    "                                batch_size=100,\n",
    "                                shuffle=False,\n",
    "                                num_workers=10\n",
    "                             )"
   ]
  },
  {
   "cell_type": "markdown",
   "id": "60527ee7-5cf5-4aa0-a44a-6afba57d05ff",
   "metadata": {},
   "source": [
    "# Let's look at an image example from the training set"
   ]
  },
  {
   "cell_type": "code",
   "execution_count": 564,
   "id": "9afb8bd3-1c8d-47b6-9223-da2d3dfdbce3",
   "metadata": {},
   "outputs": [
    {
     "data": {
      "image/png": "[encoded data removed]",
      "text/plain": [
       "<Figure size 640x480 with 1 Axes>"
      ]
     },
     "metadata": {},
     "output_type": "display_data"
    }
   ],
   "source": [
    "def plot_image(tensor_img):\n",
    "    plt.imshow(transforms.ToPILImage()(tensor_img), cmap='gray')\n",
    "    plt.xticks([])\n",
    "    plt.yticks([]);\n",
    "plot_image(mnist_train[10][0])"
   ]
  },
  {
   "cell_type": "markdown",
   "id": "0baac261-f0cf-4ef1-8d85-c0afa7283d04",
   "metadata": {},
   "source": [
    "# Defining the Auto Encoder Module"
   ]
  },
  {
   "cell_type": "code",
   "execution_count": 565,
   "id": "805fde5e-0553-4648-90f4-49dd325ff612",
   "metadata": {},
   "outputs": [],
   "source": [
    "class FFAutoEncoder(nn.Module):\n",
    "    \n",
    "    def __init__(self, input_dim, latent_dim):\n",
    "        super().__init__()\n",
    "        self.encoder = nn.Sequential(\n",
    "            nn.Linear(input_dim, 100),\n",
    "            nn.ReLU(),\n",
    "            nn.Linear(100, 50),\n",
    "            nn.ReLU(),\n",
    "            nn.Linear(50, latent_dim), # bottle neck\n",
    "            nn.ReLU()\n",
    "        )\n",
    "\n",
    "        self.decoder = nn.Sequential(\n",
    "            nn.Linear(latent_dim, 50), # bottle neck\n",
    "            nn.ReLU(),\n",
    "            nn.Linear(50, 100),\n",
    "            nn.ReLU(),\n",
    "            nn.Linear(100, input_dim),\n",
    "            nn.Sigmoid()\n",
    "        )\n",
    "        \n",
    "    def forward(self, x):\n",
    "        x = self.encoder(x) # encoding\n",
    "        x = self.decoder(x) # reconstruction\n",
    "        return x"
   ]
  },
  {
   "cell_type": "code",
   "execution_count": 566,
   "id": "539ecc3c-0ca2-45d3-8c57-39b693e96d89",
   "metadata": {},
   "outputs": [],
   "source": [
    "# model configs\n",
    "latent_dim = 25\n",
    "input_dim = 784\n",
    "\n",
    "\n",
    "device = 'cuda' if torch.cuda.is_available() else 'cpu'\n",
    "model = FFAutoEncoder(input_dim=input_dim, latent_dim=latent_dim).to(device)\n",
    "optimizer = adam.Adam(model.parameters(), lr=1e-3)\n",
    "criterion = nn.MSELoss()"
   ]
  },
  {
   "cell_type": "code",
   "execution_count": 568,
   "id": "f23f0bea-106c-4dce-acc0-2c820d086fce",
   "metadata": {
    "scrolled": true
   },
   "outputs": [
    {
     "name": "stderr",
     "output_type": "stream",
     "text": [
      "Epoch 1: 100%|█████████████████████████████████| 600/600 [00:03<00:00, 174.49it/s, loss=0.0248]\n"
     ]
    },
    {
     "name": "stdout",
     "output_type": "stream",
     "text": [
      "Epoch 1: Avg Loss: 0.028347\n"
     ]
    },
    {
     "name": "stderr",
     "output_type": "stream",
     "text": [
      "Epoch 2: 100%|█████████████████████████████████| 600/600 [00:03<00:00, 175.05it/s, loss=0.0213]\n"
     ]
    },
    {
     "name": "stdout",
     "output_type": "stream",
     "text": [
      "Epoch 2: Avg Loss: 0.023142\n"
     ]
    },
    {
     "name": "stderr",
     "output_type": "stream",
     "text": [
      "Epoch 3: 100%|█████████████████████████████████| 600/600 [00:03<00:00, 175.52it/s, loss=0.0202]\n"
     ]
    },
    {
     "name": "stdout",
     "output_type": "stream",
     "text": [
      "Epoch 3: Avg Loss: 0.020155\n"
     ]
    },
    {
     "name": "stderr",
     "output_type": "stream",
     "text": [
      "Epoch 4: 100%|█████████████████████████████████| 600/600 [00:03<00:00, 175.58it/s, loss=0.0168]\n"
     ]
    },
    {
     "name": "stdout",
     "output_type": "stream",
     "text": [
      "Epoch 4: Avg Loss: 0.018247\n"
     ]
    },
    {
     "name": "stderr",
     "output_type": "stream",
     "text": [
      "Epoch 5: 100%|█████████████████████████████████| 600/600 [00:03<00:00, 179.66it/s, loss=0.0166]\n"
     ]
    },
    {
     "name": "stdout",
     "output_type": "stream",
     "text": [
      "Epoch 5: Avg Loss: 0.016865\n"
     ]
    },
    {
     "name": "stderr",
     "output_type": "stream",
     "text": [
      "Epoch 6: 100%|██████████████████████████████████| 600/600 [00:03<00:00, 174.45it/s, loss=0.016]\n"
     ]
    },
    {
     "name": "stdout",
     "output_type": "stream",
     "text": [
      "Epoch 6: Avg Loss: 0.015799\n"
     ]
    },
    {
     "name": "stderr",
     "output_type": "stream",
     "text": [
      "Epoch 7: 100%|█████████████████████████████████| 600/600 [00:03<00:00, 167.85it/s, loss=0.0153]\n"
     ]
    },
    {
     "name": "stdout",
     "output_type": "stream",
     "text": [
      "Epoch 7: Avg Loss: 0.015075\n"
     ]
    },
    {
     "name": "stderr",
     "output_type": "stream",
     "text": [
      "Epoch 8: 100%|█████████████████████████████████| 600/600 [00:03<00:00, 174.05it/s, loss=0.0129]\n"
     ]
    },
    {
     "name": "stdout",
     "output_type": "stream",
     "text": [
      "Epoch 8: Avg Loss: 0.014569\n"
     ]
    },
    {
     "name": "stderr",
     "output_type": "stream",
     "text": [
      "Epoch 9: 100%|█████████████████████████████████| 600/600 [00:03<00:00, 166.49it/s, loss=0.0133]\n"
     ]
    },
    {
     "name": "stdout",
     "output_type": "stream",
     "text": [
      "Epoch 9: Avg Loss: 0.014057\n"
     ]
    },
    {
     "name": "stderr",
     "output_type": "stream",
     "text": [
      "Epoch 10: 100%|█████████████████████████████████| 600/600 [00:03<00:00, 169.99it/s, loss=0.013]\n"
     ]
    },
    {
     "name": "stdout",
     "output_type": "stream",
     "text": [
      "Epoch 10: Avg Loss: 0.013590\n"
     ]
    },
    {
     "name": "stderr",
     "output_type": "stream",
     "text": [
      "Epoch 11: 100%|████████████████████████████████| 600/600 [00:03<00:00, 168.18it/s, loss=0.0139]\n"
     ]
    },
    {
     "name": "stdout",
     "output_type": "stream",
     "text": [
      "Epoch 11: Avg Loss: 0.013169\n"
     ]
    },
    {
     "name": "stderr",
     "output_type": "stream",
     "text": [
      "Epoch 12: 100%|█████████████████████████████████| 600/600 [00:03<00:00, 171.90it/s, loss=0.012]\n"
     ]
    },
    {
     "name": "stdout",
     "output_type": "stream",
     "text": [
      "Epoch 12: Avg Loss: 0.012781\n"
     ]
    },
    {
     "name": "stderr",
     "output_type": "stream",
     "text": [
      "Epoch 13: 100%|████████████████████████████████| 600/600 [00:03<00:00, 168.86it/s, loss=0.0127]\n"
     ]
    },
    {
     "name": "stdout",
     "output_type": "stream",
     "text": [
      "Epoch 13: Avg Loss: 0.012311\n"
     ]
    },
    {
     "name": "stderr",
     "output_type": "stream",
     "text": [
      "Epoch 14: 100%|█████████████████████████████████| 600/600 [00:03<00:00, 167.54it/s, loss=0.013]\n"
     ]
    },
    {
     "name": "stdout",
     "output_type": "stream",
     "text": [
      "Epoch 14: Avg Loss: 0.011927\n"
     ]
    },
    {
     "name": "stderr",
     "output_type": "stream",
     "text": [
      "Epoch 15: 100%|████████████████████████████████| 600/600 [00:03<00:00, 167.80it/s, loss=0.0116]\n"
     ]
    },
    {
     "name": "stdout",
     "output_type": "stream",
     "text": [
      "Epoch 15: Avg Loss: 0.011626\n"
     ]
    },
    {
     "name": "stderr",
     "output_type": "stream",
     "text": [
      "Epoch 16: 100%|████████████████████████████████| 600/600 [00:03<00:00, 166.43it/s, loss=0.0122]\n"
     ]
    },
    {
     "name": "stdout",
     "output_type": "stream",
     "text": [
      "Epoch 16: Avg Loss: 0.011383\n"
     ]
    },
    {
     "name": "stderr",
     "output_type": "stream",
     "text": [
      "Epoch 17: 100%|████████████████████████████████| 600/600 [00:03<00:00, 166.00it/s, loss=0.0108]\n"
     ]
    },
    {
     "name": "stdout",
     "output_type": "stream",
     "text": [
      "Epoch 17: Avg Loss: 0.011200\n"
     ]
    },
    {
     "name": "stderr",
     "output_type": "stream",
     "text": [
      "Epoch 18: 100%|████████████████████████████████| 600/600 [00:03<00:00, 170.34it/s, loss=0.0107]\n"
     ]
    },
    {
     "name": "stdout",
     "output_type": "stream",
     "text": [
      "Epoch 18: Avg Loss: 0.011020\n"
     ]
    },
    {
     "name": "stderr",
     "output_type": "stream",
     "text": [
      "Epoch 19: 100%|████████████████████████████████| 600/600 [00:03<00:00, 168.95it/s, loss=0.0101]\n"
     ]
    },
    {
     "name": "stdout",
     "output_type": "stream",
     "text": [
      "Epoch 19: Avg Loss: 0.010857\n"
     ]
    },
    {
     "name": "stderr",
     "output_type": "stream",
     "text": [
      "Epoch 20: 100%|███████████████████████████████| 600/600 [00:03<00:00, 162.91it/s, loss=0.00996]\n"
     ]
    },
    {
     "name": "stdout",
     "output_type": "stream",
     "text": [
      "Epoch 20: Avg Loss: 0.010737\n"
     ]
    },
    {
     "name": "stderr",
     "output_type": "stream",
     "text": [
      "Epoch 21: 100%|████████████████████████████████| 600/600 [00:03<00:00, 166.38it/s, loss=0.0102]\n"
     ]
    },
    {
     "name": "stdout",
     "output_type": "stream",
     "text": [
      "Epoch 21: Avg Loss: 0.010592\n"
     ]
    },
    {
     "name": "stderr",
     "output_type": "stream",
     "text": [
      "Epoch 22: 100%|███████████████████████████████| 600/600 [00:03<00:00, 172.70it/s, loss=0.00975]\n"
     ]
    },
    {
     "name": "stdout",
     "output_type": "stream",
     "text": [
      "Epoch 22: Avg Loss: 0.010483\n"
     ]
    },
    {
     "name": "stderr",
     "output_type": "stream",
     "text": [
      "Epoch 23: 100%|███████████████████████████████| 600/600 [00:03<00:00, 168.21it/s, loss=0.00984]\n"
     ]
    },
    {
     "name": "stdout",
     "output_type": "stream",
     "text": [
      "Epoch 23: Avg Loss: 0.010401\n"
     ]
    },
    {
     "name": "stderr",
     "output_type": "stream",
     "text": [
      "Epoch 24: 100%|██████████████████████████████████| 600/600 [00:03<00:00, 165.78it/s, loss=0.01]\n"
     ]
    },
    {
     "name": "stdout",
     "output_type": "stream",
     "text": [
      "Epoch 24: Avg Loss: 0.010315\n"
     ]
    },
    {
     "name": "stderr",
     "output_type": "stream",
     "text": [
      "Epoch 25: 100%|████████████████████████████████| 600/600 [00:03<00:00, 169.71it/s, loss=0.0106]\n"
     ]
    },
    {
     "name": "stdout",
     "output_type": "stream",
     "text": [
      "Epoch 25: Avg Loss: 0.010201\n"
     ]
    },
    {
     "name": "stderr",
     "output_type": "stream",
     "text": [
      "Epoch 26: 100%|████████████████████████████████| 600/600 [00:03<00:00, 169.96it/s, loss=0.0106]\n"
     ]
    },
    {
     "name": "stdout",
     "output_type": "stream",
     "text": [
      "Epoch 26: Avg Loss: 0.010146\n"
     ]
    },
    {
     "name": "stderr",
     "output_type": "stream",
     "text": [
      "Epoch 27: 100%|████████████████████████████████| 600/600 [00:03<00:00, 161.58it/s, loss=0.0103]\n"
     ]
    },
    {
     "name": "stdout",
     "output_type": "stream",
     "text": [
      "Epoch 27: Avg Loss: 0.010080\n"
     ]
    },
    {
     "name": "stderr",
     "output_type": "stream",
     "text": [
      "Epoch 28: 100%|███████████████████████████████| 600/600 [00:03<00:00, 169.99it/s, loss=0.00961]\n"
     ]
    },
    {
     "name": "stdout",
     "output_type": "stream",
     "text": [
      "Epoch 28: Avg Loss: 0.009990\n"
     ]
    },
    {
     "name": "stderr",
     "output_type": "stream",
     "text": [
      "Epoch 29: 100%|███████████████████████████████| 600/600 [00:03<00:00, 173.47it/s, loss=0.00852]\n"
     ]
    },
    {
     "name": "stdout",
     "output_type": "stream",
     "text": [
      "Epoch 29: Avg Loss: 0.009885\n"
     ]
    },
    {
     "name": "stderr",
     "output_type": "stream",
     "text": [
      "Epoch 30: 100%|███████████████████████████████| 600/600 [00:03<00:00, 169.85it/s, loss=0.00926]"
     ]
    },
    {
     "name": "stdout",
     "output_type": "stream",
     "text": [
      "Epoch 30: Avg Loss: 0.009869\n"
     ]
    },
    {
     "name": "stderr",
     "output_type": "stream",
     "text": [
      "\n"
     ]
    }
   ],
   "source": [
    "from tqdm import tqdm\n",
    "\n",
    "epochs = 30\n",
    "\n",
    "for epoch in range(epochs):\n",
    "    running_loss = 0.0\n",
    "    progress_bar = tqdm(train_dataloader, desc=f\"Epoch {epoch+1}\", leave=True)\n",
    "\n",
    "    for batch in progress_bar:\n",
    "        image, _ = batch\n",
    "        B, C, W, H = image.shape\n",
    "        image = image.reshape((B, C, -1)).to(device)\n",
    "\n",
    "        optimizer.zero_grad()\n",
    "        logits = model.forward(image)\n",
    "        \n",
    "        loss = criterion(logits, image)\n",
    "\n",
    "        loss.backward()\n",
    "        optimizer.step()\n",
    "\n",
    "        running_loss += loss.item()\n",
    "\n",
    "        # Update progress bar with loss\n",
    "        progress_bar.set_postfix(loss=loss.item())\n",
    "    \n",
    "    print(f\"Epoch {epoch+1}: Avg Loss: {running_loss / len(train_dataloader):.6f}\")"
   ]
  },
  {
   "cell_type": "code",
   "execution_count": 584,
   "id": "10aaa493-cbfa-4a0b-bf2e-6bdb9a795d9a",
   "metadata": {},
   "outputs": [],
   "source": [
    "@torch.no_grad()\n",
    "def inference(model, input_tensor):\n",
    "    C, W, H = input_tensor.shape\n",
    "    reconstructed = input_tensor.reshape((C, -1))\n",
    "    return reconstructed.view(C, W, H)"
   ]
  },
  {
   "cell_type": "code",
   "execution_count": 589,
   "id": "a57700ee-7e41-4141-bb8d-e585d0d19b98",
   "metadata": {},
   "outputs": [],
   "source": [
    "test_image = mnist_test[10][0]"
   ]
  },
  {
   "cell_type": "code",
   "execution_count": 590,
   "id": "029eed79-393a-4a2c-92c5-909717716bec",
   "metadata": {},
   "outputs": [],
   "source": [
    "generated = inference(model, test_image)"
   ]
  },
  {
   "cell_type": "code",
   "execution_count": 591,
   "id": "75acbc61-2af2-4d07-9b27-0ffa61ecb9ab",
   "metadata": {},
   "outputs": [
    {
     "data": {
      "image/png": "[encoded data removed]",
      "text/plain": [
       "<Figure size 640x480 with 1 Axes>"
      ]
     },
     "metadata": {},
     "output_type": "display_data"
    }
   ],
   "source": [
    "plot_image(test_image)"
   ]
  },
  {
   "cell_type": "code",
   "execution_count": 592,
   "id": "412a3cc6-542d-48ed-a88f-254160b0f1ad",
   "metadata": {},
   "outputs": [
    {
     "data": {
      "image/png": "[encoded data removed]",
      "text/plain": [
       "<Figure size 640x480 with 1 Axes>"
      ]
     },
     "metadata": {},
     "output_type": "display_data"
    }
   ],
   "source": [
    "plot_image(generated)"
   ]
  }
 ],
 "metadata": {
  "kernelspec": {
   "display_name": "Python 3 (ipykernel)",
   "language": "python",
   "name": "python3"
  },
  "language_info": {
   "codemirror_mode": {
    "name": "ipython",
    "version": 3
   },
   "file_extension": ".py",
   "mimetype": "text/x-python",
   "name": "python",
   "nbconvert_exporter": "python",
   "pygments_lexer": "ipython3",
   "version": "3.12.2"
  }
 },
 "nbformat": 4,
 "nbformat_minor": 5
}
